{
  "nbformat": 4,
  "nbformat_minor": 0,
  "metadata": {
    "kernelspec": {
      "display_name": "Python 3",
      "language": "python",
      "name": "python3"
    },
    "colab": {
      "name": "TFG-Convolutional NN",
      "provenance": [],
      "collapsed_sections": [],
      "include_colab_link": true
    },
    "accelerator": "GPU"
  },
  "cells": [
    {
      "cell_type": "markdown",
      "metadata": {
        "id": "view-in-github",
        "colab_type": "text"
      },
      "source": [
        "<a href=\"https://colab.research.google.com/github/alexgil3/A-neural-network-performance-analysis-with-three-different-model-structures/blob/main/TFG_Convolutional_NN.ipynb\" target=\"_parent\"><img src=\"https://colab.research.google.com/assets/colab-badge.svg\" alt=\"Open In Colab\"/></a>"
      ]
    },
    {
      "cell_type": "code",
      "metadata": {
        "collapsed": true,
        "id": "1hn9gViCF87P"
      },
      "source": [
        "# Put file path as a string here\n",
        "CIFAR_DIR = 'C:/Users/aleja/cifar-10-batches-py/'"
      ],
      "execution_count": null,
      "outputs": []
    },
    {
      "cell_type": "code",
      "metadata": {
        "id": "R2zlyOJDOgig"
      },
      "source": [
        "import matplotlib.pyplot as plt\n",
        "%matplotlib inline\n",
        "import numpy as np\n",
        "from timeit import default_timer as timer\n",
        "import os\n",
        "import tensorflow as tf\n",
        "from tensorflow import keras\n",
        "from tensorflow.keras.layers import Input, Conv2D, MaxPool2D, AveragePooling2D, ZeroPadding2D, BatchNormalization, Activation, Dense, Lambda"
      ],
      "execution_count": null,
      "outputs": []
    },
    {
      "cell_type": "code",
      "metadata": {
        "id": "IcTjMaT0Qj1C",
        "colab": {
          "base_uri": "https://localhost:8080/"
        },
        "outputId": "4c30ea22-999c-4f0f-dd80-332c17ca9dd3"
      },
      "source": [
        "tf.__version__"
      ],
      "execution_count": null,
      "outputs": [
        {
          "output_type": "execute_result",
          "data": {
            "text/plain": [
              "'1.10.0'"
            ]
          },
          "metadata": {
            "tags": []
          },
          "execution_count": 3
        }
      ]
    },
    {
      "cell_type": "code",
      "metadata": {
        "id": "x9GV_o0Ibe4B"
      },
      "source": [
        "\n",
        "os.environ[\"CUDA_DEVICE_ORDER\"] = \"PCI_BUS_ID\" # so the IDs match nvidia-smi\n",
        "os.environ[\"CUDA_VISIBLE_DEVICES\"]=\"-1\" # write -1 to use CPU or write 0 to use GPU\n",
        "import tensorflow as tf"
      ],
      "execution_count": null,
      "outputs": []
    },
    {
      "cell_type": "code",
      "metadata": {
        "colab": {
          "base_uri": "https://localhost:8080/"
        },
        "id": "Y-Pjjv85YOe_",
        "outputId": "c4229cbb-b1e8-4734-dfea-03b79fa7442b"
      },
      "source": [
        "from tensorflow.python.client import device_lib\n",
        "print(device_lib.list_local_devices())"
      ],
      "execution_count": null,
      "outputs": [
        {
          "output_type": "stream",
          "text": [
            "[name: \"/device:CPU:0\"\n",
            "device_type: \"CPU\"\n",
            "memory_limit: 268435456\n",
            "locality {\n",
            "}\n",
            "incarnation: 1426571830698031144\n",
            "]\n"
          ],
          "name": "stdout"
        }
      ]
    },
    {
      "cell_type": "code",
      "metadata": {
        "collapsed": true,
        "id": "ZnyW3cSVF87Q"
      },
      "source": [
        "#Function grabbed from the official CIFAR 10 webpage\n",
        "#https://www.cs.toronto.edu/~kriz/cifar.html\n",
        "def unpickle(file):\n",
        "    import pickle\n",
        "    with open(file, 'rb') as fo:\n",
        "        cifar_dict = pickle.load(fo, encoding='bytes')\n",
        "    return cifar_dict"
      ],
      "execution_count": null,
      "outputs": []
    },
    {
      "cell_type": "code",
      "metadata": {
        "collapsed": true,
        "id": "l2mQnnItF87R"
      },
      "source": [
        "dirs = ['batches.meta','data_batch_1','data_batch_2','data_batch_3','data_batch_4','data_batch_5','test_batch']"
      ],
      "execution_count": null,
      "outputs": []
    },
    {
      "cell_type": "code",
      "metadata": {
        "collapsed": true,
        "id": "d0cQmwsNF87R"
      },
      "source": [
        "all_data = [0,1,2,3,4,5,6]"
      ],
      "execution_count": null,
      "outputs": []
    },
    {
      "cell_type": "code",
      "metadata": {
        "collapsed": true,
        "id": "zafwwYHIF87S"
      },
      "source": [
        "for i,direc in zip(all_data,dirs):\n",
        "    all_data[i] = unpickle(CIFAR_DIR+direc)"
      ],
      "execution_count": null,
      "outputs": []
    },
    {
      "cell_type": "code",
      "metadata": {
        "collapsed": true,
        "id": "mnplflo7F87S"
      },
      "source": [
        "batch_meta = all_data[0]\n",
        "data_batch1 = all_data[1]\n",
        "data_batch2 = all_data[2]\n",
        "data_batch3 = all_data[3]\n",
        "data_batch4 = all_data[4]\n",
        "data_batch5 = all_data[5]\n",
        "test_batch = all_data[6]"
      ],
      "execution_count": null,
      "outputs": []
    },
    {
      "cell_type": "code",
      "metadata": {
        "colab": {
          "base_uri": "https://localhost:8080/"
        },
        "id": "mELX9hVnF87U",
        "outputId": "ef1995af-2e71-4e59-e77b-5f9f1ee49e87"
      },
      "source": [
        "data_batch1.keys()"
      ],
      "execution_count": null,
      "outputs": [
        {
          "output_type": "execute_result",
          "data": {
            "text/plain": [
              "dict_keys([b'filenames', b'batch_label', b'labels', b'data'])"
            ]
          },
          "metadata": {
            "tags": []
          },
          "execution_count": 11
        }
      ]
    },
    {
      "cell_type": "code",
      "metadata": {
        "collapsed": true,
        "id": "0m5HI3oNF87V"
      },
      "source": [
        "X = data_batch1[b\"data\"] "
      ],
      "execution_count": null,
      "outputs": []
    },
    {
      "cell_type": "code",
      "metadata": {
        "collapsed": true,
        "id": "MPn5ikPFF87V"
      },
      "source": [
        "X = X.reshape(10000, 3, 32, 32).transpose(0,2,3,1).astype(\"uint8\")"
      ],
      "execution_count": null,
      "outputs": []
    },
    {
      "cell_type": "markdown",
      "metadata": {
        "id": "61rUJERRSsRJ"
      },
      "source": [
        ""
      ]
    },
    {
      "cell_type": "code",
      "metadata": {
        "colab": {
          "base_uri": "https://localhost:8080/"
        },
        "id": "-_24m0eaF87W",
        "outputId": "a977c1c9-2e8e-4538-be7a-3580a28bed98"
      },
      "source": [
        "X[0].max()"
      ],
      "execution_count": null,
      "outputs": [
        {
          "output_type": "execute_result",
          "data": {
            "text/plain": [
              "255"
            ]
          },
          "metadata": {
            "tags": []
          },
          "execution_count": 14
        }
      ]
    },
    {
      "cell_type": "code",
      "metadata": {
        "colab": {
          "base_uri": "https://localhost:8080/"
        },
        "id": "Yr5bpoCsF87W",
        "outputId": "78e51dc3-209e-48a0-e25d-2ab7c9ae7a52"
      },
      "source": [
        "(X[0]/255).max()"
      ],
      "execution_count": null,
      "outputs": [
        {
          "output_type": "execute_result",
          "data": {
            "text/plain": [
              "1.0"
            ]
          },
          "metadata": {
            "tags": []
          },
          "execution_count": 15
        }
      ]
    },
    {
      "cell_type": "code",
      "metadata": {
        "colab": {
          "base_uri": "https://localhost:8080/",
          "height": 287
        },
        "id": "ntIEdTK7F87X",
        "outputId": "151b40ab-c92f-4c3d-c506-42b4ecea1392"
      },
      "source": [
        "plt.imshow(X[30])"
      ],
      "execution_count": null,
      "outputs": [
        {
          "output_type": "execute_result",
          "data": {
            "text/plain": [
              "<matplotlib.image.AxesImage at 0x2b2a94d5a90>"
            ]
          },
          "metadata": {
            "tags": []
          },
          "execution_count": 16
        },
        {
          "output_type": "display_data",
          "data": {
            "image/png": "[encoded data removed]",
            "text/plain": [
              "<matplotlib.figure.Figure at 0x2b2a0bdc080>"
            ]
          },
          "metadata": {
            "tags": [],
            "needs_background": "light"
          }
        }
      ]
    },
    {
      "cell_type": "code",
      "metadata": {
        "colab": {
          "base_uri": "https://localhost:8080/"
        },
        "id": "2aimcgyZl_R1",
        "outputId": "feac8fda-aa3b-429e-bcdf-18303c0e7572"
      },
      "source": [
        "print(X.shape)"
      ],
      "execution_count": null,
      "outputs": [
        {
          "output_type": "stream",
          "text": [
            "(10000, 32, 32, 3)\n"
          ],
          "name": "stdout"
        }
      ]
    },
    {
      "cell_type": "code",
      "metadata": {
        "collapsed": true,
        "id": "nK2DZGj9F87Y"
      },
      "source": [
        "#Converts categorical values into binary values\n",
        "def one_hot_encode(vec, vals=10):\n",
        "    '''\n",
        "    For use to one-hot encode the 10- possible labels\n",
        "    '''\n",
        "    n = len(vec)\n",
        "    out = np.zeros((n, vals))\n",
        "    out[range(n), vec] = 1\n",
        "    return out"
      ],
      "execution_count": null,
      "outputs": []
    },
    {
      "cell_type": "code",
      "metadata": {
        "collapsed": true,
        "id": "YLyDFXabF87Z"
      },
      "source": [
        "class CifarHelper():\n",
        "    \n",
        "    def __init__(self):\n",
        "        #Couter: used later for counting batches\n",
        "        self.i = 0\n",
        "        \n",
        "        #List of batches\n",
        "        self.all_train_batches = [data_batch1,data_batch2,data_batch3,data_batch4,data_batch5]\n",
        "        self.test_batch = [test_batch]\n",
        "        \n",
        "        self.training_images = None\n",
        "        self.training_labels = None\n",
        "        \n",
        "        self.test_images = None\n",
        "        self.test_labels = None\n",
        "    \n",
        "    #This function manipulates both training an test images in order to pass them as an input for our model\n",
        "    def set_up_images(self):\n",
        "        \n",
        "        print(\"Setting Up Training Images and Labels\")\n",
        "\n",
        "        #Stacks the arrays from \"data\" (each image) vertically\n",
        "        self.training_images = np.vstack([d[b\"data\"] for d in self.all_train_batches]) \n",
        "\n",
        "        #Number of training images\n",
        "        train_len = len(self.training_images)\n",
        "        \n",
        "        #Reshape the images as a 32x32 images with 3 color channels so their dimension should be (32,32,3)\n",
        "        #The images are also normalized \"/255\" as 255 is the maximum value\n",
        "        self.training_images = self.training_images.reshape(train_len,3,32,32).transpose(0,2,3,1)/255\n",
        "\n",
        "        #Use one hot ecoding. This is essential for the model to work properly\n",
        "        self.training_labels = one_hot_encode(np.hstack([d[b\"labels\"] for d in self.all_train_batches]), 10)\n",
        "        \n",
        "        print(\"Training images: Done\\n\")\n",
        "\n",
        "        print(\"Setting Up Test Images and Labels\")\n",
        "        #Stacks the arrays from \"data\" (each image) vertically\n",
        "        self.test_images = np.vstack([d[b\"data\"] for d in self.test_batch])\n",
        "\n",
        "        #Number of test images\n",
        "        test_len = len(self.test_images)\n",
        "        \n",
        "        #Reshape the images as a 32x32 images with 3 color channels so their dimension should be (32,32,3)\n",
        "        #The images are also normalized \"/255\" as 255 is the maximum value\n",
        "        self.test_images = self.test_images.reshape(test_len,3,32,32).transpose(0,2,3,1)/255\n",
        "\n",
        "        #Use one hot ecoding. This is essential for the model to work properly\n",
        "        self.test_labels = one_hot_encode(np.hstack([d[b\"labels\"] for d in self.test_batch]), 10)\n",
        "        print(\"Test images: Done\")\n",
        "\n",
        "\n",
        "\n",
        "    #This function should be called at the end of each batch.\n",
        "    #It goes through the data array with steps of batch_size\n",
        "    def next_batch(self, batch_size):\n",
        "        x = self.training_images[self.i:self.i+batch_size].reshape(batch_size,32,32,3) #100 is the batch_size  CHANGE THIS LATER\n",
        "        y = self.training_labels[self.i:self.i+batch_size]\n",
        "        self.i = (self.i + batch_size) % len(self.training_images) #\n",
        "        return x, y"
      ],
      "execution_count": null,
      "outputs": []
    },
    {
      "cell_type": "code",
      "metadata": {
        "colab": {
          "base_uri": "https://localhost:8080/"
        },
        "id": "Ah1L7MyfF87Z",
        "outputId": "7bec76f4-4e47-4a40-c7a4-2e63aae38897"
      },
      "source": [
        "# Before Your tf.Session run these two lines\n",
        "ch = CifarHelper()\n",
        "ch.set_up_images()\n",
        "\n",
        "# During your session to grab the next batch use this line\n",
        "# (Just like we did for mnist.train.next_batch)\n",
        "# batch = ch.next_batch(100)"
      ],
      "execution_count": null,
      "outputs": [
        {
          "output_type": "stream",
          "text": [
            "Setting Up Training Images and Labels\n",
            "Training images: Done\n",
            "\n",
            "Setting Up Test Images and Labels\n",
            "Test images: Done\n"
          ],
          "name": "stdout"
        }
      ]
    },
    {
      "cell_type": "code",
      "metadata": {
        "collapsed": true,
        "id": "H7TUhOClF87a"
      },
      "source": [
        "#Create placeholders (None: batch size)\n",
        "x = tf.placeholder(tf.float32,shape=[None,32,32,3])\n",
        "y_true = tf.placeholder(tf.float32,shape=[None,10])"
      ],
      "execution_count": null,
      "outputs": []
    },
    {
      "cell_type": "code",
      "metadata": {
        "collapsed": true,
        "id": "kxw5LMqRF87a"
      },
      "source": [
        "#This will be a single number used for the dropout\n",
        "hold_prob = tf.placeholder(tf.float32)"
      ],
      "execution_count": null,
      "outputs": []
    },
    {
      "cell_type": "code",
      "metadata": {
        "collapsed": true,
        "id": "zfa4PDW1F87b"
      },
      "source": [
        "#Init all the weights using truncated normal\n",
        "def init_weights(shape):\n",
        "    init_random_dist = tf.truncated_normal(shape, stddev=0.1)\n",
        "    return tf.Variable(init_random_dist)\n",
        "\n",
        "def init_bias(shape):\n",
        "    init_bias_vals = tf.constant(0.1, shape=shape)\n",
        "    return tf.Variable(init_bias_vals)\n",
        "\n",
        "def conv2d(x, W):\n",
        "    return tf.nn.conv2d(x, W, strides=[1, 1, 1, 1], padding = 'SAME')\n",
        "\n",
        "def max_pool_2by2(x):\n",
        "    return tf.nn.max_pool(x, ksize=[1, 2, 2, 1],\n",
        "                          strides=[1, 2, 2, 1], padding='SAME')\n",
        "\n",
        "def convolutional_layer(input_x, shape):\n",
        "    W = init_weights(shape)\n",
        "    b = init_bias([shape[3]])\n",
        "    return tf.nn.relu(conv2d(input_x, W) + b)\n",
        "\n",
        "def normal_full_layer(input_layer, size):\n",
        "    input_size = int(input_layer.get_shape()[1])\n",
        "    W = init_weights([input_size, size])\n",
        "    b = init_bias([size])\n",
        "    return tf.matmul(input_layer, W) + b"
      ],
      "execution_count": null,
      "outputs": []
    },
    {
      "cell_type": "markdown",
      "metadata": {
        "id": "52OiqwyqCe-t"
      },
      "source": [
        "### **CPU vs. GPU**"
      ]
    },
    {
      "cell_type": "code",
      "metadata": {
        "collapsed": true,
        "id": "qqIh8FkjF87b"
      },
      "source": [
        "def create_model():\n",
        "  #First layer and pooling\n",
        "  convo_1 = convolutional_layer(x,shape=[4,4,3,32])\n",
        "  convo_1_pooling = max_pool_2by2(convo_1)\n",
        "\n",
        "  #First layer and pooling\n",
        "  convo_2 = convolutional_layer(convo_1_pooling,shape=[4,4,32,64])\n",
        "  convo_2_pooling = max_pool_2by2(convo_2)\n",
        "\n",
        "  #Flat second layer\n",
        "  convo_2_flat = tf.reshape(convo_2_pooling,[-1,8*8*64])\n",
        "\n",
        "  #Apply activation funciton \n",
        "  full_layer_one = tf.nn.relu(normal_full_layer(convo_2_flat,1024))\n",
        "\n",
        "  #Apply dropout\n",
        "  full_one_dropout = tf.nn.dropout(full_layer_one,keep_prob=hold_prob)\n",
        "\n",
        "  #Create last layer as a fully coonnected layer\n",
        "  y_pred = normal_full_layer(full_one_dropout,10)\n",
        "\n",
        "  #Create loss function\n",
        "  cross_entropy = tf.reduce_mean(tf.nn.softmax_cross_entropy_with_logits(labels=y_true,logits=y_pred))\n",
        "\n",
        "  #Optinizer\n",
        "  optimizer = tf.train.AdamOptimizer(learning_rate=0.001)\n",
        "  train = optimizer.minimize(cross_entropy)\n",
        "\n",
        "  return y_pred, train"
      ],
      "execution_count": null,
      "outputs": []
    },
    {
      "cell_type": "code",
      "metadata": {
        "collapsed": true,
        "id": "aLi7OTIKF87f"
      },
      "source": [
        "#Init variables\n",
        "init = tf.global_variables_initializer()"
      ],
      "execution_count": null,
      "outputs": []
    },
    {
      "cell_type": "code",
      "metadata": {
        "id": "P-G4RnXOF87g"
      },
      "source": [
        "def train_model(y_pred, train, batch_size):\n",
        "  \n",
        "  with tf.Session() as sess:\n",
        "    sess.run(tf.global_variables_initializer())\n",
        "\n",
        "    start = timer()\n",
        "    for i in range(batch_size*5):\n",
        "      batch = ch.next_batch(batch_size)\n",
        "      sess.run(train, feed_dict={x: batch[0], y_true: batch[1], hold_prob: 0.5})\n",
        "        \n",
        "      # PRINT OUT A MESSAGE EVERY 100 STEPS\n",
        "      if i%100 == 0:\n",
        "            \n",
        "        print('Currently on step {}'.format(i))\n",
        "        print('Accuracy is:')\n",
        "        # Test the Train Model\n",
        "        matches = tf.equal(tf.argmax(y_pred,1),tf.argmax(y_true,1))\n",
        "\n",
        "        acc = tf.reduce_mean(tf.cast(matches,tf.float32))\n",
        "\n",
        "        print(sess.run(acc,feed_dict={x:ch.test_images,y_true:ch.test_labels,hold_prob:1.0}))\n",
        "        print('\\n')\n",
        "    end = timer()\n",
        "\n",
        "  return end-start   "
      ],
      "execution_count": null,
      "outputs": []
    },
    {
      "cell_type": "code",
      "metadata": {
        "colab": {
          "base_uri": "https://localhost:8080/"
        },
        "id": "IRIyPkbVF87g",
        "outputId": "38800a1e-45ba-44b8-ca50-8557da4f81df"
      },
      "source": [
        "av_time = 0\n",
        "num_iter = 5\n",
        "results_time = np.zeros(num_iter)\n",
        "for i in range(num_iter):\n",
        "  print('training iteration:',i)\n",
        "  y_pred, model = create_model()\n",
        "\n",
        "  # Before Your tf.Session run these two lines\n",
        "  ch = CifarHelper()\n",
        "  ch.set_up_images()\n",
        "\n",
        "  time = train_model(y_pred, model,100)\n",
        "  av_time += time\n",
        "  results_time[i] = time\n",
        "\n",
        "  del ch\n",
        "  del model\n",
        "\n",
        "av_time/=num_iter"
      ],
      "execution_count": null,
      "outputs": [
        {
          "output_type": "stream",
          "text": [
            "training iteration: 0\n",
            "WARNING:tensorflow:From <ipython-input-24-af6747ce8f34>:23: softmax_cross_entropy_with_logits (from tensorflow.python.ops.nn_ops) is deprecated and will be removed in a future version.\n",
            "Instructions for updating:\n",
            "\n",
            "Future major versions of TensorFlow will allow gradients to flow\n",
            "into the labels input on backprop by default.\n",
            "\n",
            "See @{tf.nn.softmax_cross_entropy_with_logits_v2}.\n",
            "\n",
            "Setting Up Training Images and Labels\n",
            "Training images: Done\n",
            "\n",
            "Setting Up Test Images and Labels\n",
            "Test images: Done\n",
            "Currently on step 0\n",
            "Accuracy is:\n",
            "0.1001\n",
            "\n",
            "\n",
            "Currently on step 100\n",
            "Accuracy is:\n",
            "0.4221\n",
            "\n",
            "\n",
            "Currently on step 200\n",
            "Accuracy is:\n",
            "0.4828\n",
            "\n",
            "\n",
            "Currently on step 300\n",
            "Accuracy is:\n",
            "0.5061\n",
            "\n",
            "\n",
            "Currently on step 400\n",
            "Accuracy is:\n",
            "0.5256\n",
            "\n",
            "\n",
            "training iteration: 1\n",
            "Setting Up Training Images and Labels\n",
            "Training images: Done\n",
            "\n",
            "Setting Up Test Images and Labels\n",
            "Test images: Done\n",
            "Currently on step 0\n",
            "Accuracy is:\n",
            "0.1083\n",
            "\n",
            "\n",
            "Currently on step 100\n",
            "Accuracy is:\n",
            "0.4134\n",
            "\n",
            "\n",
            "Currently on step 200\n",
            "Accuracy is:\n",
            "0.4671\n",
            "\n",
            "\n",
            "Currently on step 300\n",
            "Accuracy is:\n",
            "0.492\n",
            "\n",
            "\n",
            "Currently on step 400\n",
            "Accuracy is:\n",
            "0.5233\n",
            "\n",
            "\n",
            "training iteration: 2\n",
            "Setting Up Training Images and Labels\n",
            "Training images: Done\n",
            "\n",
            "Setting Up Test Images and Labels\n",
            "Test images: Done\n",
            "Currently on step 0\n",
            "Accuracy is:\n",
            "0.1134\n",
            "\n",
            "\n",
            "Currently on step 100\n",
            "Accuracy is:\n",
            "0.3989\n",
            "\n",
            "\n",
            "Currently on step 200\n",
            "Accuracy is:\n",
            "0.4635\n",
            "\n",
            "\n",
            "Currently on step 300\n",
            "Accuracy is:\n",
            "0.5072\n",
            "\n",
            "\n",
            "Currently on step 400\n",
            "Accuracy is:\n",
            "0.5271\n",
            "\n",
            "\n",
            "training iteration: 3\n",
            "Setting Up Training Images and Labels\n",
            "Training images: Done\n",
            "\n",
            "Setting Up Test Images and Labels\n",
            "Test images: Done\n",
            "Currently on step 0\n",
            "Accuracy is:\n",
            "0.1006\n",
            "\n",
            "\n",
            "Currently on step 100\n",
            "Accuracy is:\n",
            "0.4219\n",
            "\n",
            "\n",
            "Currently on step 200\n",
            "Accuracy is:\n",
            "0.4944\n",
            "\n",
            "\n",
            "Currently on step 300\n",
            "Accuracy is:\n",
            "0.5273\n",
            "\n",
            "\n",
            "Currently on step 400\n",
            "Accuracy is:\n",
            "0.5436\n",
            "\n",
            "\n",
            "training iteration: 4\n",
            "Setting Up Training Images and Labels\n",
            "Training images: Done\n",
            "\n",
            "Setting Up Test Images and Labels\n",
            "Test images: Done\n",
            "Currently on step 0\n",
            "Accuracy is:\n",
            "0.0999\n",
            "\n",
            "\n",
            "Currently on step 100\n",
            "Accuracy is:\n",
            "0.4041\n",
            "\n",
            "\n",
            "Currently on step 200\n",
            "Accuracy is:\n",
            "0.4593\n",
            "\n",
            "\n",
            "Currently on step 300\n",
            "Accuracy is:\n",
            "0.4891\n",
            "\n",
            "\n",
            "Currently on step 400\n",
            "Accuracy is:\n",
            "0.5202\n",
            "\n",
            "\n"
          ],
          "name": "stdout"
        }
      ]
    },
    {
      "cell_type": "code",
      "metadata": {
        "colab": {
          "base_uri": "https://localhost:8080/"
        },
        "id": "MstdWpJr0NQg",
        "outputId": "a071c3c0-8ca2-4129-cb31-2387799b0221"
      },
      "source": [
        "max = np.nanmax(results_time,axis=0)\n",
        "min = np.nanmin(results_time,axis=0)\n",
        "res = max - min\n",
        "res"
      ],
      "execution_count": null,
      "outputs": [
        {
          "output_type": "execute_result",
          "data": {
            "text/plain": [
              "8.5935072000000616"
            ]
          },
          "metadata": {
            "tags": []
          },
          "execution_count": 28
        }
      ]
    },
    {
      "cell_type": "code",
      "metadata": {
        "collapsed": true,
        "id": "aeKFNdQXF87g",
        "colab": {
          "base_uri": "https://localhost:8080/",
          "height": 313
        },
        "outputId": "dc3e235d-67bb-4875-e6be-e1dd10e36470"
      },
      "source": [
        "#Average with batch_size = 100, steps = 500, run 5 times\n",
        "data = (8.04, 131.71)\n",
        "err = (2.23/2 ,8.59/2 )\n",
        "ind = np.arange(2)\n",
        "width = 0.35\n",
        "\n",
        "plt.bar(ind, data, width)\n",
        "plt.errorbar(ind, data,yerr=err, fmt=\"o\", color=\"r\")\n",
        "plt.title('CPU vs. GPU average time')\n",
        "plt.xlabel('Hardware device')\n",
        "plt.ylabel('Time (secs)')\n",
        "\n",
        "plt.legend(loc='best')\n",
        "plt.xticks(ind, ('GPU','CPU'))\n",
        "plt.show()"
      ],
      "execution_count": null,
      "outputs": [
        {
          "output_type": "stream",
          "text": [
            "No handles with labels found to put in legend.\n"
          ],
          "name": "stderr"
        },
        {
          "output_type": "display_data",
          "data": {
            "image/png": "[encoded data removed]",
            "text/plain": [
              "<matplotlib.figure.Figure at 0x2b2b92345f8>"
            ]
          },
          "metadata": {
            "tags": [],
            "needs_background": "light"
          }
        }
      ]
    },
    {
      "cell_type": "markdown",
      "metadata": {
        "id": "OClJoWPsCl0O"
      },
      "source": [
        "### **Train batch size**"
      ]
    },
    {
      "cell_type": "code",
      "metadata": {
        "id": "8a6LnxN60T3N"
      },
      "source": [
        "def train_model_accuracy(y_pred, train, batch_size):\n",
        "\n",
        "  num_iter = 20\n",
        "  results_accuracy = np.zeros(num_iter)\n",
        "  cont = 0\n",
        "  with tf.Session() as sess:\n",
        "    sess.run(tf.global_variables_initializer())\n",
        "\n",
        "    start = timer()\n",
        "    for i in range(2000):\n",
        "      batch = ch.next_batch(batch_size)\n",
        "      sess.run(train, feed_dict={x: batch[0], y_true: batch[1], hold_prob: 0.5})\n",
        "        \n",
        "      # PRINT OUT A MESSAGE EVERY 100 STEPS\n",
        "      if i%100 == 0: \n",
        "        print('Currently on step {}'.format(i))\n",
        "        print('Accuracy is:')\n",
        "        # Test the Train Model\n",
        "        matches = tf.equal(tf.argmax(y_pred,1),tf.argmax(y_true,1))\n",
        "\n",
        "        acc = tf.reduce_mean(tf.cast(matches,tf.float32))\n",
        "        results_accuracy[cont] = sess.run(acc,feed_dict={x:ch.test_images,y_true:ch.test_labels,hold_prob:1.0})\n",
        "        cont+=1\n",
        "        print(sess.run(acc,feed_dict={x:ch.test_images,y_true:ch.test_labels,hold_prob:1.0}))\n",
        "        print('\\n')\n",
        "    end = timer()\n",
        "    time = end-start\n",
        "\n",
        "  return time, results_accuracy"
      ],
      "execution_count": null,
      "outputs": []
    },
    {
      "cell_type": "code",
      "metadata": {
        "colab": {
          "base_uri": "https://localhost:8080/"
        },
        "id": "F1lvH3oW1Z1E",
        "outputId": "420c2ae5-fccd-4c2a-fcbd-833e9cc59772"
      },
      "source": [
        "av_time = 0\n",
        "num_iter = 1\n",
        "for i in range(num_iter):\n",
        "  print('training iteration:',i)\n",
        "  y_pred, model = create_model()\n",
        "  y_pred_2, model_2 = create_model()\n",
        "  y_pred_3, model_3 = create_model()\n",
        "  y_pred_4, model_4 = create_model()\n",
        "  \n",
        "\n",
        "  # Before Your tf.Session run these two lines\n",
        "  ch = CifarHelper()\n",
        "  ch.set_up_images()\n",
        "  time, accuracy = train_model_accuracy(y_pred, model,80)\n",
        "  time_2, accuracy_2 = train_model_accuracy(y_pred, model,100)\n",
        "  time_3, accuracy_3 = train_model_accuracy(y_pred, model,250)\n",
        "  time_4, accuracy_4 = train_model_accuracy(y_pred, model,500)\n",
        "  av_time += time\n",
        "\n",
        "  del ch\n",
        "  del model\n",
        "\n",
        "av_time/=num_iter"
      ],
      "execution_count": null,
      "outputs": [
        {
          "output_type": "stream",
          "text": [
            "training iteration: 0\n",
            "Setting Up Training Images and Labels\n",
            "Training images: Done\n",
            "\n",
            "Setting Up Test Images and Labels\n",
            "Test images: Done\n",
            "Currently on step 0\n",
            "Accuracy is:\n",
            "0.0995\n",
            "\n",
            "\n",
            "Currently on step 100\n",
            "Accuracy is:\n",
            "0.4025\n",
            "\n",
            "\n",
            "Currently on step 200\n",
            "Accuracy is:\n",
            "0.4516\n",
            "\n",
            "\n",
            "Currently on step 300\n",
            "Accuracy is:\n",
            "0.4845\n",
            "\n",
            "\n",
            "Currently on step 400\n",
            "Accuracy is:\n",
            "0.5131\n",
            "\n",
            "\n",
            "Currently on step 500\n",
            "Accuracy is:\n",
            "0.5282\n",
            "\n",
            "\n",
            "Currently on step 600\n",
            "Accuracy is:\n",
            "0.5403\n",
            "\n",
            "\n",
            "Currently on step 700\n",
            "Accuracy is:\n",
            "0.539\n",
            "\n",
            "\n",
            "Currently on step 800\n",
            "Accuracy is:\n",
            "0.5882\n",
            "\n",
            "\n",
            "Currently on step 900\n",
            "Accuracy is:\n",
            "0.5863\n",
            "\n",
            "\n",
            "Currently on step 1000\n",
            "Accuracy is:\n",
            "0.6066\n",
            "\n",
            "\n",
            "Currently on step 1100\n",
            "Accuracy is:\n",
            "0.6132\n",
            "\n",
            "\n",
            "Currently on step 1200\n",
            "Accuracy is:\n",
            "0.6306\n",
            "\n",
            "\n",
            "Currently on step 1300\n",
            "Accuracy is:\n",
            "0.639\n",
            "\n",
            "\n",
            "Currently on step 1400\n",
            "Accuracy is:\n",
            "0.6347\n",
            "\n",
            "\n",
            "Currently on step 1500\n",
            "Accuracy is:\n",
            "0.6475\n",
            "\n",
            "\n",
            "Currently on step 1600\n",
            "Accuracy is:\n",
            "0.6283\n",
            "\n",
            "\n",
            "Currently on step 1700\n",
            "Accuracy is:\n",
            "0.64\n",
            "\n",
            "\n",
            "Currently on step 1800\n",
            "Accuracy is:\n",
            "0.6487\n",
            "\n",
            "\n",
            "Currently on step 1900\n",
            "Accuracy is:\n",
            "0.6663\n",
            "\n",
            "\n",
            "Currently on step 0\n",
            "Accuracy is:\n",
            "0.099\n",
            "\n",
            "\n",
            "Currently on step 100\n",
            "Accuracy is:\n",
            "0.3996\n",
            "\n",
            "\n",
            "Currently on step 200\n",
            "Accuracy is:\n",
            "0.4716\n",
            "\n",
            "\n",
            "Currently on step 300\n",
            "Accuracy is:\n",
            "0.5185\n",
            "\n",
            "\n",
            "Currently on step 400\n",
            "Accuracy is:\n",
            "0.5328\n",
            "\n",
            "\n",
            "Currently on step 500\n",
            "Accuracy is:\n",
            "0.5581\n",
            "\n",
            "\n",
            "Currently on step 600\n",
            "Accuracy is:\n",
            "0.5566\n",
            "\n",
            "\n",
            "Currently on step 700\n",
            "Accuracy is:\n",
            "0.587\n",
            "\n",
            "\n",
            "Currently on step 800\n",
            "Accuracy is:\n",
            "0.5918\n",
            "\n",
            "\n",
            "Currently on step 900\n",
            "Accuracy is:\n",
            "0.6042\n",
            "\n",
            "\n",
            "Currently on step 1000\n",
            "Accuracy is:\n",
            "0.6219\n",
            "\n",
            "\n",
            "Currently on step 1100\n",
            "Accuracy is:\n",
            "0.6054\n",
            "\n",
            "\n",
            "Currently on step 1200\n",
            "Accuracy is:\n",
            "0.6259\n",
            "\n",
            "\n",
            "Currently on step 1300\n",
            "Accuracy is:\n",
            "0.6393\n",
            "\n",
            "\n",
            "Currently on step 1400\n",
            "Accuracy is:\n",
            "0.6362\n",
            "\n",
            "\n",
            "Currently on step 1500\n",
            "Accuracy is:\n",
            "0.6517\n",
            "\n",
            "\n",
            "Currently on step 1600\n",
            "Accuracy is:\n",
            "0.6432\n",
            "\n",
            "\n",
            "Currently on step 1700\n",
            "Accuracy is:\n",
            "0.6447\n",
            "\n",
            "\n",
            "Currently on step 1800\n",
            "Accuracy is:\n",
            "0.6626\n",
            "\n",
            "\n",
            "Currently on step 1900\n",
            "Accuracy is:\n",
            "0.6527\n",
            "\n",
            "\n",
            "Currently on step 0\n",
            "Accuracy is:\n",
            "0.1021\n",
            "\n",
            "\n",
            "Currently on step 100\n",
            "Accuracy is:\n",
            "0.4489\n",
            "\n",
            "\n",
            "Currently on step 200\n",
            "Accuracy is:\n",
            "0.5024\n",
            "\n",
            "\n",
            "Currently on step 300\n",
            "Accuracy is:\n",
            "0.5449\n",
            "\n",
            "\n",
            "Currently on step 400\n",
            "Accuracy is:\n",
            "0.5661\n",
            "\n",
            "\n",
            "Currently on step 500\n",
            "Accuracy is:\n",
            "0.5803\n",
            "\n",
            "\n",
            "Currently on step 600\n",
            "Accuracy is:\n",
            "0.6045\n",
            "\n",
            "\n",
            "Currently on step 700\n",
            "Accuracy is:\n",
            "0.6141\n",
            "\n",
            "\n",
            "Currently on step 800\n",
            "Accuracy is:\n",
            "0.6268\n",
            "\n",
            "\n",
            "Currently on step 900\n",
            "Accuracy is:\n",
            "0.644\n",
            "\n",
            "\n",
            "Currently on step 1000\n",
            "Accuracy is:\n",
            "0.657\n",
            "\n",
            "\n",
            "Currently on step 1100\n",
            "Accuracy is:\n",
            "0.654\n",
            "\n",
            "\n",
            "Currently on step 1200\n",
            "Accuracy is:\n",
            "0.6594\n",
            "\n",
            "\n",
            "Currently on step 1300\n",
            "Accuracy is:\n",
            "0.6623\n",
            "\n",
            "\n",
            "Currently on step 1400\n",
            "Accuracy is:\n",
            "0.6694\n",
            "\n",
            "\n",
            "Currently on step 1500\n",
            "Accuracy is:\n",
            "0.6658\n",
            "\n",
            "\n",
            "Currently on step 1600\n",
            "Accuracy is:\n",
            "0.6608\n",
            "\n",
            "\n",
            "Currently on step 1700\n",
            "Accuracy is:\n",
            "0.6757\n",
            "\n",
            "\n",
            "Currently on step 1800\n",
            "Accuracy is:\n",
            "0.6613\n",
            "\n",
            "\n",
            "Currently on step 1900\n",
            "Accuracy is:\n",
            "0.6861\n",
            "\n",
            "\n",
            "Currently on step 0\n",
            "Accuracy is:\n",
            "0.1152\n",
            "\n",
            "\n",
            "Currently on step 100\n",
            "Accuracy is:\n",
            "0.4825\n",
            "\n",
            "\n",
            "Currently on step 200\n",
            "Accuracy is:\n",
            "0.5418\n",
            "\n",
            "\n",
            "Currently on step 300\n",
            "Accuracy is:\n",
            "0.5775\n",
            "\n",
            "\n",
            "Currently on step 400\n",
            "Accuracy is:\n",
            "0.6041\n",
            "\n",
            "\n",
            "Currently on step 500\n",
            "Accuracy is:\n",
            "0.622\n",
            "\n",
            "\n",
            "Currently on step 600\n",
            "Accuracy is:\n",
            "0.6337\n",
            "\n",
            "\n",
            "Currently on step 700\n",
            "Accuracy is:\n",
            "0.6503\n",
            "\n",
            "\n",
            "Currently on step 800\n",
            "Accuracy is:\n",
            "0.6583\n",
            "\n",
            "\n",
            "Currently on step 900\n",
            "Accuracy is:\n",
            "0.6586\n",
            "\n",
            "\n",
            "Currently on step 1000\n",
            "Accuracy is:\n",
            "0.6596\n",
            "\n",
            "\n",
            "Currently on step 1100\n",
            "Accuracy is:\n",
            "0.6712\n",
            "\n",
            "\n",
            "Currently on step 1200\n",
            "Accuracy is:\n",
            "0.6751\n",
            "\n",
            "\n",
            "Currently on step 1300\n",
            "Accuracy is:\n",
            "0.6661\n",
            "\n",
            "\n",
            "Currently on step 1400\n",
            "Accuracy is:\n",
            "0.6588\n",
            "\n",
            "\n",
            "Currently on step 1500\n",
            "Accuracy is:\n",
            "0.6692\n",
            "\n",
            "\n",
            "Currently on step 1600\n",
            "Accuracy is:\n",
            "0.6754\n",
            "\n",
            "\n",
            "Currently on step 1700\n",
            "Accuracy is:\n",
            "0.6866\n",
            "\n",
            "\n",
            "Currently on step 1800\n",
            "Accuracy is:\n",
            "0.6723\n",
            "\n",
            "\n",
            "Currently on step 1900\n",
            "Accuracy is:\n",
            "0.6874\n",
            "\n",
            "\n"
          ],
          "name": "stdout"
        }
      ]
    },
    {
      "cell_type": "code",
      "metadata": {
        "colab": {
          "base_uri": "https://localhost:8080/"
        },
        "id": "OArt447l2tIC",
        "outputId": "52013dad-719e-4ad4-e461-967818776a9e"
      },
      "source": [
        "accuracy"
      ],
      "execution_count": null,
      "outputs": [
        {
          "output_type": "execute_result",
          "data": {
            "text/plain": [
              "array([ 0.0995    ,  0.4025    ,  0.45159999,  0.48449999,  0.51310003,\n",
              "        0.52819997,  0.54030001,  0.53899997,  0.58819997,  0.58630002,\n",
              "        0.60659999,  0.61320001,  0.63059998,  0.639     ,  0.6347    ,\n",
              "        0.64749998,  0.62830001,  0.63999999,  0.6487    ,  0.6663    ])"
            ]
          },
          "metadata": {
            "tags": []
          },
          "execution_count": 33
        }
      ]
    },
    {
      "cell_type": "code",
      "metadata": {
        "colab": {
          "base_uri": "https://localhost:8080/",
          "height": 313
        },
        "id": "v-AP-ABu2ubP",
        "outputId": "d1a1deaf-7fc1-4606-ae74-98e6a1e874a2"
      },
      "source": [
        "#  One training 20 steps of different batchsize\n",
        "x = np.arange(0,2000,100)\n",
        "plt.plot(x,accuracy, label = 'Batch size: 80')\n",
        "plt.plot(x,accuracy_2, label = 'Batch_size: 100')\n",
        "plt.plot(x,accuracy_3, label = 'Batch_size: 250')\n",
        "plt.plot(x,accuracy_4, label = 'Batch_size: 500')\n",
        "\n",
        "plt.title('Accuracy performance with different batch sizes')\n",
        "plt.xlabel('Steps')\n",
        "plt.ylabel('Accuracy')\n",
        "plt.legend()"
      ],
      "execution_count": null,
      "outputs": [
        {
          "output_type": "execute_result",
          "data": {
            "text/plain": [
              "<matplotlib.legend.Legend at 0x1ddff1bfdd8>"
            ]
          },
          "metadata": {
            "tags": []
          },
          "execution_count": 34
        },
        {
          "output_type": "display_data",
          "data": {
            "image/png": "[encoded data removed]",
            "text/plain": [
              "<matplotlib.figure.Figure at 0x1ddfec92860>"
            ]
          },
          "metadata": {
            "tags": [],
            "needs_background": "light"
          }
        }
      ]
    },
    {
      "cell_type": "code",
      "metadata": {
        "colab": {
          "base_uri": "https://localhost:8080/",
          "height": 313
        },
        "id": "vPMBvz2G_2Lk",
        "outputId": "ab994d5b-8e96-4024-ee3a-74a8bdd932c4"
      },
      "source": [
        "#Average with batch_size = 100, steps = 500, run 5 times\n",
        "data = (time, time_2, time_3, time_4)\n",
        "\n",
        "ind = np.arange(4)\n",
        "width = 0.35\n",
        "\n",
        "plt.bar(ind, data, width)\n",
        "\n",
        "plt.title('Batch size training time')\n",
        "plt.xlabel('Batch size')\n",
        "plt.ylabel('Time (secs)')\n",
        "\n",
        "plt.legend(loc='best')\n",
        "plt.xticks(ind, ('80','100','250','500'))\n",
        "plt.show()"
      ],
      "execution_count": null,
      "outputs": [
        {
          "output_type": "stream",
          "text": [
            "No handles with labels found to put in legend.\n"
          ],
          "name": "stderr"
        },
        {
          "output_type": "display_data",
          "data": {
            "image/png": "[encoded data removed]",
            "text/plain": [
              "<matplotlib.figure.Figure at 0x1dde9666c88>"
            ]
          },
          "metadata": {
            "tags": [],
            "needs_background": "light"
          }
        }
      ]
    },
    {
      "cell_type": "markdown",
      "metadata": {
        "id": "q9Nc4lV_CqSK"
      },
      "source": [
        "### **Train optimizer**"
      ]
    },
    {
      "cell_type": "code",
      "metadata": {
        "id": "ZCgM5dsZB2PK"
      },
      "source": [
        "def create_model_optimizer(optimizer):\n",
        "  #First layer and pooling\n",
        "  convo_1 = convolutional_layer(x,shape=[4,4,3,32])\n",
        "  convo_1_pooling = max_pool_2by2(convo_1)\n",
        "\n",
        "  #First layer and pooling\n",
        "  convo_2 = convolutional_layer(convo_1_pooling,shape=[4,4,32,64])\n",
        "  convo_2_pooling = max_pool_2by2(convo_2)\n",
        "\n",
        "  #Flat second layer\n",
        "  convo_2_flat = tf.reshape(convo_2_pooling,[-1,8*8*64])\n",
        "\n",
        "  #Apply activation funciton \n",
        "  full_layer_one = tf.nn.relu(normal_full_layer(convo_2_flat,1024))\n",
        "\n",
        "  #Apply dropout\n",
        "  full_one_dropout = tf.nn.dropout(full_layer_one,keep_prob=hold_prob)\n",
        "\n",
        "  #Create last layer as a fully coonnected layer\n",
        "  y_pred = normal_full_layer(full_one_dropout,10)\n",
        "\n",
        "  #Create loss function\n",
        "  cross_entropy = tf.reduce_mean(tf.nn.softmax_cross_entropy_with_logits(labels=y_true,logits=y_pred))\n",
        "\n",
        "  #Optinizer\n",
        "  if optimizer == 'GradientDescentOptimizer':\n",
        "    optimizer = tf.train.GradientDescentOptimizer(learning_rate=0.001)\n",
        "\n",
        "  elif optimizer == 'AdamOptimizer':\n",
        "    optimizer = tf.train.AdamOptimizer(learning_rate=0.001)\n",
        "\n",
        "  elif optimizer == 'RMSPropOptimizer':\n",
        "    optimizer = tf.train.RMSPropOptimizer(learning_rate=0.001)\n",
        "\n",
        "  elif optimizer == 'AdadeltaOptimizer':\n",
        "    optimizer = tf.train.AdadeltaOptimizer(learning_rate=0.001)\n",
        "  \n",
        "  train = optimizer.minimize(cross_entropy)\n",
        "\n",
        "  return y_pred, train"
      ],
      "execution_count": null,
      "outputs": []
    },
    {
      "cell_type": "code",
      "metadata": {
        "id": "JI9sVYwgHZsj"
      },
      "source": [
        "av_time = 0\n",
        "num_iter = 1\n",
        "for i in range(num_iter):\n",
        "  print('training iteration:',i)\n",
        "  y_pred_op, model_op = create_model_optimizer('GradientDescentOptimizer')\n",
        "  y_pred_op_2, model_op_2 = create_model_optimizer('AdamOptimizer')\n",
        "  y_pred_op_3, model_op_3 = create_model_optimizer('RMSPropOptimizer')\n",
        "  y_pred_op_4, model_op_4 = create_model_optimizer('AdadeltaOptimizer')\n",
        "  \n",
        "\n",
        "  # Before Your tf.Session run these two lines\n",
        "  ch = CifarHelper()\n",
        "  ch.set_up_images()\n",
        "  time, accuracy = train_model_accuracy(y_pred_op, model_op,100)\n",
        "  time_2, accuracy_2 = train_model_accuracy(y_pred_op_2, model_op_2,100)\n",
        "  time_3, accuracy_3 = train_model_accuracy(y_pred_op_3, model_op_3,100)\n",
        "  time_4, accuracy_4 = train_model_accuracy(y_pred_op_4, model_op_4,100)\n",
        "  av_time += time\n",
        "\n",
        "  del ch"
      ],
      "execution_count": null,
      "outputs": []
    },
    {
      "cell_type": "code",
      "metadata": {
        "colab": {
          "base_uri": "https://localhost:8080/",
          "height": 313
        },
        "id": "Lfb1IVSIIPxy",
        "outputId": "fbbc2dba-e7b3-47bf-a5c2-c9d5a76a6bb6"
      },
      "source": [
        "#  One training 20 steps of different optimizers\n",
        "x = np.arange(0,2000,100)\n",
        "plt.plot(x,accuracy, label = 'GradientDescentOptimizer')\n",
        "plt.plot(x,accuracy_2, label = 'AdamOptimizer')\n",
        "plt.plot(x,accuracy_3, label = 'RMSPropOptimizer')\n",
        "plt.plot(x,accuracy_4, label = 'AdadeltaOptimizer')\n",
        "\n",
        "plt.title('Accuracy performance with different optimizers')\n",
        "plt.xlabel('Steps')\n",
        "plt.ylabel('Accuracy')\n",
        "plt.legend(bbox_to_anchor=(1.05, 1), loc='upper left', borderaxespad=0.)"
      ],
      "execution_count": null,
      "outputs": [
        {
          "output_type": "execute_result",
          "data": {
            "text/plain": [
              "<matplotlib.legend.Legend at 0x1ddea14da20>"
            ]
          },
          "metadata": {
            "tags": []
          },
          "execution_count": 87
        },
        {
          "output_type": "display_data",
          "data": {
            "image/png": "[encoded data removed]",
            "text/plain": [
              "<matplotlib.figure.Figure at 0x1ddea093748>"
            ]
          },
          "metadata": {
            "tags": [],
            "needs_background": "light"
          }
        }
      ]
    },
    {
      "cell_type": "code",
      "metadata": {
        "colab": {
          "base_uri": "https://localhost:8080/",
          "height": 313
        },
        "id": "YZ1yJpELIq1Y",
        "outputId": "3625c8da-f1d3-4221-d329-feba5ea69699"
      },
      "source": [
        "#Average with batch_size = 100, steps = 500, run 5 times\n",
        "data = (time, time_2, time_3, time_4)\n",
        "\n",
        "ind = np.arange(4)\n",
        "width = 0.35\n",
        "\n",
        "plt.bar(ind, data, width)\n",
        "\n",
        "plt.title('Oprimizers training time')\n",
        "plt.xlabel('Optimizers')\n",
        "plt.ylabel('Time (secs)')\n",
        "\n",
        "plt.legend(loc='best')\n",
        "plt.xticks(ind, ('GDO','Adam','RMSProp','Adadelta'))\n",
        "plt.show()"
      ],
      "execution_count": null,
      "outputs": [
        {
          "output_type": "stream",
          "text": [
            "No handles with labels found to put in legend.\n"
          ],
          "name": "stderr"
        },
        {
          "output_type": "display_data",
          "data": {
            "image/png": "[encoded data removed]",
            "text/plain": [
              "<matplotlib.figure.Figure at 0x1ddea204748>"
            ]
          },
          "metadata": {
            "tags": [],
            "needs_background": "light"
          }
        }
      ]
    },
    {
      "cell_type": "markdown",
      "metadata": {
        "id": "bHLmenEJIk-R"
      },
      "source": [
        "### **Train num_layers**"
      ]
    },
    {
      "cell_type": "code",
      "metadata": {
        "id": "5PvY8i8GMY0P"
      },
      "source": [
        "def create_model_layers(num_layers):\n",
        "\n",
        "\n",
        "  #First layer and pooling\n",
        "  convo_1 = convolutional_layer(x,shape=[4,4,3,32])\n",
        "  convo_1_pooling = max_pool_2by2(convo_1)\n",
        "\n",
        "  for i in range(num_layers-1):\n",
        "    #Second layer and pooling\n",
        "    if i == 0:\n",
        "      convo = convolutional_layer(convo_1_pooling,shape=[4,4,32,64])\n",
        "    else:\n",
        "      convo = convolutional_layer(convo_pooling,shape=[4,4,64,64])\n",
        "\n",
        "    convo_pooling = max_pool_2by2(convo)\n",
        "\n",
        "  if num_layers ==1:\n",
        "    print(convo_1_pooling.shape.dims)\n",
        "\n",
        "  else:\n",
        "    print(convo_pooling.shape.dims)\n",
        "\n",
        "#pow(2,5 + i)\n",
        "  \n",
        "  ind  = 16\n",
        "  if num_layers == 2:\n",
        "    ind = 8\n",
        "  if num_layers == 3:\n",
        "    ind = 4\n",
        "  elif num_layers == 4:\n",
        "    ind = 2\n",
        "  elif num_layers > 4:\n",
        "    ind = 1\n",
        "\n",
        "\n",
        "  if num_layers ==1:\n",
        "     #Flat first layer\n",
        "     convo_flat = tf.reshape(convo_1_pooling,[-1,ind*ind*32])\n",
        "\n",
        "  else:\n",
        "    #Flat second to last layer\n",
        "    convo_flat = tf.reshape(convo_pooling,[-1,ind*ind*64])\n",
        "\n",
        "  #Apply activation funciton \n",
        "  full_layer_one = tf.nn.relu(normal_full_layer(convo_flat,1024))\n",
        "\n",
        "  #Apply dropout\n",
        "  full_one_dropout = tf.nn.dropout(full_layer_one,keep_prob=hold_prob)\n",
        "\n",
        "  #Create last layer as a fully coonnected layer\n",
        "  y_pred = normal_full_layer(full_one_dropout,10)\n",
        "\n",
        "  #Create loss function\n",
        "  cross_entropy = tf.reduce_mean(tf.nn.softmax_cross_entropy_with_logits(labels=y_true,logits=y_pred))\n",
        "\n",
        "  #Optinizer\n",
        "  optimizer = tf.train.AdamOptimizer(learning_rate=0.001)\n",
        "  train = optimizer.minimize(cross_entropy)\n",
        "\n",
        "  return y_pred, train"
      ],
      "execution_count": null,
      "outputs": []
    },
    {
      "cell_type": "code",
      "metadata": {
        "colab": {
          "base_uri": "https://localhost:8080/"
        },
        "id": "Xz40eFjJ22oR",
        "outputId": "a59a286f-af59-42e2-8771-ad2823539f97"
      },
      "source": [
        "av_time = 0\n",
        "num_iter = 1\n",
        "for i in range(num_iter):\n",
        "  print('training iteration:',i)\n",
        "\n",
        "  y_pred_po,   model_po =     create_model_layers(1)\n",
        "  y_pred_po_2, model_po_2 =   create_model_layers(2)\n",
        "  y_pred_po_3, model_po_3 =   create_model_layers(3)\n",
        "  y_pred_po_4, model_po_4 =   create_model_layers(4)\n",
        "  y_pred_po_5, model_po_5 =   create_model_layers(5)\n",
        "  y_pred_po_10,model_po_10 =  create_model_layers(10)\n",
        "  y_pred_po_20,model_po_20 =  create_model_layers(20)\n",
        "\n",
        "  # Before Your tf.Session run these two lines\n",
        "  ch = CifarHelper()\n",
        "  ch.set_up_images()\n",
        "\n",
        "\n",
        "  time, accuracy =       train_model_accuracy(y_pred_po, model_po,100)\n",
        "  time_2, accuracy_2 =   train_model_accuracy(y_pred_po_2, model_po_2,100)\n",
        "  time_3, accuracy_3 =   train_model_accuracy(y_pred_po_3, model_po_3,100)\n",
        "  time_4, accuracy_4 =   train_model_accuracy(y_pred_po_4, model_po_4,100)\n",
        "  time_5, accuracy_5 =   train_model_accuracy(y_pred_po_5, model_po_5,100)\n",
        "  time_10, accuracy_10 = train_model_accuracy(y_pred_po_10, model_po_10,100)\n",
        "  time_20, accuracy_20 = train_model_accuracy(y_pred_po_20, model_po_20,100)\n",
        "\n",
        "  av_time += time\n",
        "\n",
        "  del ch"
      ],
      "execution_count": null,
      "outputs": [
        {
          "output_type": "stream",
          "text": [
            "training iteration: 0\n",
            "[Dimension(None), Dimension(16), Dimension(16), Dimension(32)]\n",
            "[Dimension(None), Dimension(8), Dimension(8), Dimension(64)]\n",
            "[Dimension(None), Dimension(4), Dimension(4), Dimension(64)]\n",
            "[Dimension(None), Dimension(2), Dimension(2), Dimension(64)]\n",
            "[Dimension(None), Dimension(1), Dimension(1), Dimension(64)]\n",
            "[Dimension(None), Dimension(1), Dimension(1), Dimension(64)]\n",
            "[Dimension(None), Dimension(1), Dimension(1), Dimension(64)]\n",
            "Setting Up Training Images and Labels\n",
            "Training images: Done\n",
            "\n",
            "Setting Up Test Images and Labels\n",
            "Test images: Done\n",
            "Currently on step 0\n",
            "Accuracy is:\n",
            "0.1\n",
            "\n",
            "\n",
            "Currently on step 100\n",
            "Accuracy is:\n",
            "0.3961\n",
            "\n",
            "\n",
            "Currently on step 200\n",
            "Accuracy is:\n",
            "0.4617\n",
            "\n",
            "\n",
            "Currently on step 300\n",
            "Accuracy is:\n",
            "0.4773\n",
            "\n",
            "\n",
            "Currently on step 400\n",
            "Accuracy is:\n",
            "0.508\n",
            "\n",
            "\n",
            "Currently on step 500\n",
            "Accuracy is:\n",
            "0.5306\n",
            "\n",
            "\n",
            "Currently on step 600\n",
            "Accuracy is:\n",
            "0.5506\n",
            "\n",
            "\n",
            "Currently on step 700\n",
            "Accuracy is:\n",
            "0.5537\n",
            "\n",
            "\n",
            "Currently on step 800\n",
            "Accuracy is:\n",
            "0.5562\n",
            "\n",
            "\n",
            "Currently on step 900\n",
            "Accuracy is:\n",
            "0.5809\n",
            "\n",
            "\n",
            "Currently on step 1000\n",
            "Accuracy is:\n",
            "0.5936\n",
            "\n",
            "\n",
            "Currently on step 1100\n",
            "Accuracy is:\n",
            "0.5904\n",
            "\n",
            "\n",
            "Currently on step 1200\n",
            "Accuracy is:\n",
            "0.6122\n",
            "\n",
            "\n",
            "Currently on step 1300\n",
            "Accuracy is:\n",
            "0.5895\n",
            "\n",
            "\n",
            "Currently on step 1400\n",
            "Accuracy is:\n",
            "0.6201\n",
            "\n",
            "\n",
            "Currently on step 1500\n",
            "Accuracy is:\n",
            "0.6146\n",
            "\n",
            "\n",
            "Currently on step 1600\n",
            "Accuracy is:\n",
            "0.621\n",
            "\n",
            "\n",
            "Currently on step 1700\n",
            "Accuracy is:\n",
            "0.6328\n",
            "\n",
            "\n",
            "Currently on step 1800\n",
            "Accuracy is:\n",
            "0.6181\n",
            "\n",
            "\n",
            "Currently on step 1900\n",
            "Accuracy is:\n",
            "0.641\n",
            "\n",
            "\n",
            "Currently on step 0\n",
            "Accuracy is:\n",
            "0.1143\n",
            "\n",
            "\n",
            "Currently on step 100\n",
            "Accuracy is:\n",
            "0.4116\n",
            "\n",
            "\n",
            "Currently on step 200\n",
            "Accuracy is:\n",
            "0.4614\n",
            "\n",
            "\n",
            "Currently on step 300\n",
            "Accuracy is:\n",
            "0.5018\n",
            "\n",
            "\n",
            "Currently on step 400\n",
            "Accuracy is:\n",
            "0.5318\n",
            "\n",
            "\n",
            "Currently on step 500\n",
            "Accuracy is:\n",
            "0.5478\n",
            "\n",
            "\n",
            "Currently on step 600\n",
            "Accuracy is:\n",
            "0.5729\n",
            "\n",
            "\n",
            "Currently on step 700\n",
            "Accuracy is:\n",
            "0.5915\n",
            "\n",
            "\n",
            "Currently on step 800\n",
            "Accuracy is:\n",
            "0.5806\n",
            "\n",
            "\n",
            "Currently on step 900\n",
            "Accuracy is:\n",
            "0.5961\n",
            "\n",
            "\n",
            "Currently on step 1000\n",
            "Accuracy is:\n",
            "0.618\n",
            "\n",
            "\n",
            "Currently on step 1100\n",
            "Accuracy is:\n",
            "0.6288\n",
            "\n",
            "\n",
            "Currently on step 1200\n",
            "Accuracy is:\n",
            "0.6298\n",
            "\n",
            "\n",
            "Currently on step 1300\n",
            "Accuracy is:\n",
            "0.6336\n",
            "\n",
            "\n",
            "Currently on step 1400\n",
            "Accuracy is:\n",
            "0.6241\n",
            "\n",
            "\n",
            "Currently on step 1500\n",
            "Accuracy is:\n",
            "0.645\n",
            "\n",
            "\n",
            "Currently on step 1600\n",
            "Accuracy is:\n",
            "0.6517\n",
            "\n",
            "\n",
            "Currently on step 1700\n",
            "Accuracy is:\n",
            "0.6591\n",
            "\n",
            "\n",
            "Currently on step 1800\n",
            "Accuracy is:\n",
            "0.6581\n",
            "\n",
            "\n",
            "Currently on step 1900\n",
            "Accuracy is:\n",
            "0.6487\n",
            "\n",
            "\n",
            "Currently on step 0\n",
            "Accuracy is:\n",
            "0.086\n",
            "\n",
            "\n",
            "Currently on step 100\n",
            "Accuracy is:\n",
            "0.3598\n",
            "\n",
            "\n",
            "Currently on step 200\n",
            "Accuracy is:\n",
            "0.4449\n",
            "\n",
            "\n",
            "Currently on step 300\n",
            "Accuracy is:\n",
            "0.4684\n",
            "\n",
            "\n",
            "Currently on step 400\n",
            "Accuracy is:\n",
            "0.5077\n",
            "\n",
            "\n",
            "Currently on step 500\n",
            "Accuracy is:\n",
            "0.5249\n",
            "\n",
            "\n",
            "Currently on step 600\n",
            "Accuracy is:\n",
            "0.5052\n",
            "\n",
            "\n",
            "Currently on step 700\n",
            "Accuracy is:\n",
            "0.5447\n",
            "\n",
            "\n",
            "Currently on step 800\n",
            "Accuracy is:\n",
            "0.5704\n",
            "\n",
            "\n",
            "Currently on step 900\n",
            "Accuracy is:\n",
            "0.5692\n",
            "\n",
            "\n",
            "Currently on step 1000\n",
            "Accuracy is:\n",
            "0.5778\n",
            "\n",
            "\n",
            "Currently on step 1100\n",
            "Accuracy is:\n",
            "0.5972\n",
            "\n",
            "\n",
            "Currently on step 1200\n",
            "Accuracy is:\n",
            "0.5839\n",
            "\n",
            "\n",
            "Currently on step 1300\n",
            "Accuracy is:\n",
            "0.6166\n",
            "\n",
            "\n",
            "Currently on step 1400\n",
            "Accuracy is:\n",
            "0.6183\n",
            "\n",
            "\n",
            "Currently on step 1500\n",
            "Accuracy is:\n",
            "0.6106\n",
            "\n",
            "\n",
            "Currently on step 1600\n",
            "Accuracy is:\n",
            "0.6376\n",
            "\n",
            "\n",
            "Currently on step 1700\n",
            "Accuracy is:\n",
            "0.6326\n",
            "\n",
            "\n",
            "Currently on step 1800\n",
            "Accuracy is:\n",
            "0.6455\n",
            "\n",
            "\n",
            "Currently on step 1900\n",
            "Accuracy is:\n",
            "0.6445\n",
            "\n",
            "\n",
            "Currently on step 0\n",
            "Accuracy is:\n",
            "0.104\n",
            "\n",
            "\n",
            "Currently on step 100\n",
            "Accuracy is:\n",
            "0.3675\n",
            "\n",
            "\n",
            "Currently on step 200\n",
            "Accuracy is:\n",
            "0.4093\n",
            "\n",
            "\n",
            "Currently on step 300\n",
            "Accuracy is:\n",
            "0.4537\n",
            "\n",
            "\n",
            "Currently on step 400\n",
            "Accuracy is:\n",
            "0.4614\n",
            "\n",
            "\n",
            "Currently on step 500\n",
            "Accuracy is:\n",
            "0.508\n",
            "\n",
            "\n",
            "Currently on step 600\n",
            "Accuracy is:\n",
            "0.4998\n",
            "\n",
            "\n",
            "Currently on step 700\n",
            "Accuracy is:\n",
            "0.5327\n",
            "\n",
            "\n",
            "Currently on step 800\n",
            "Accuracy is:\n",
            "0.5293\n",
            "\n",
            "\n",
            "Currently on step 900\n",
            "Accuracy is:\n",
            "0.5234\n",
            "\n",
            "\n",
            "Currently on step 1000\n",
            "Accuracy is:\n",
            "0.5748\n",
            "\n",
            "\n",
            "Currently on step 1100\n",
            "Accuracy is:\n",
            "0.5751\n",
            "\n",
            "\n",
            "Currently on step 1200\n",
            "Accuracy is:\n",
            "0.5531\n",
            "\n",
            "\n",
            "Currently on step 1300\n",
            "Accuracy is:\n",
            "0.585\n",
            "\n",
            "\n",
            "Currently on step 1400\n",
            "Accuracy is:\n",
            "0.5973\n",
            "\n",
            "\n",
            "Currently on step 1500\n",
            "Accuracy is:\n",
            "0.6024\n",
            "\n",
            "\n",
            "Currently on step 1600\n",
            "Accuracy is:\n",
            "0.625\n",
            "\n",
            "\n",
            "Currently on step 1700\n",
            "Accuracy is:\n",
            "0.6025\n",
            "\n",
            "\n",
            "Currently on step 1800\n",
            "Accuracy is:\n",
            "0.6237\n",
            "\n",
            "\n",
            "Currently on step 1900\n",
            "Accuracy is:\n",
            "0.616\n",
            "\n",
            "\n",
            "Currently on step 0\n",
            "Accuracy is:\n",
            "0.0999\n",
            "\n",
            "\n",
            "Currently on step 100\n",
            "Accuracy is:\n",
            "0.3482\n",
            "\n",
            "\n",
            "Currently on step 200\n",
            "Accuracy is:\n",
            "0.3927\n",
            "\n",
            "\n",
            "Currently on step 300\n",
            "Accuracy is:\n",
            "0.4215\n",
            "\n",
            "\n",
            "Currently on step 400\n",
            "Accuracy is:\n",
            "0.4377\n",
            "\n",
            "\n",
            "Currently on step 500\n",
            "Accuracy is:\n",
            "0.496\n",
            "\n",
            "\n",
            "Currently on step 600\n",
            "Accuracy is:\n",
            "0.4984\n",
            "\n",
            "\n",
            "Currently on step 700\n",
            "Accuracy is:\n",
            "0.5003\n",
            "\n",
            "\n",
            "Currently on step 800\n",
            "Accuracy is:\n",
            "0.5217\n",
            "\n",
            "\n",
            "Currently on step 900\n",
            "Accuracy is:\n",
            "0.5282\n",
            "\n",
            "\n",
            "Currently on step 1000\n",
            "Accuracy is:\n",
            "0.5426\n",
            "\n",
            "\n",
            "Currently on step 1100\n",
            "Accuracy is:\n",
            "0.5682\n",
            "\n",
            "\n",
            "Currently on step 1200\n",
            "Accuracy is:\n",
            "0.5349\n",
            "\n",
            "\n",
            "Currently on step 1300\n",
            "Accuracy is:\n",
            "0.5722\n",
            "\n",
            "\n",
            "Currently on step 1400\n",
            "Accuracy is:\n",
            "0.5866\n",
            "\n",
            "\n",
            "Currently on step 1500\n",
            "Accuracy is:\n",
            "0.5905\n",
            "\n",
            "\n",
            "Currently on step 1600\n",
            "Accuracy is:\n",
            "0.6113\n",
            "\n",
            "\n",
            "Currently on step 1700\n",
            "Accuracy is:\n",
            "0.6102\n",
            "\n",
            "\n",
            "Currently on step 1800\n",
            "Accuracy is:\n",
            "0.5891\n",
            "\n",
            "\n",
            "Currently on step 1900\n",
            "Accuracy is:\n",
            "0.6174\n",
            "\n",
            "\n",
            "Currently on step 0\n",
            "Accuracy is:\n",
            "0.1007\n",
            "\n",
            "\n",
            "Currently on step 100\n",
            "Accuracy is:\n",
            "0.2451\n",
            "\n",
            "\n",
            "Currently on step 200\n",
            "Accuracy is:\n",
            "0.3363\n",
            "\n",
            "\n",
            "Currently on step 300\n",
            "Accuracy is:\n",
            "0.3551\n",
            "\n",
            "\n",
            "Currently on step 400\n",
            "Accuracy is:\n",
            "0.3839\n",
            "\n",
            "\n",
            "Currently on step 500\n",
            "Accuracy is:\n",
            "0.4473\n",
            "\n",
            "\n",
            "Currently on step 600\n",
            "Accuracy is:\n",
            "0.4563\n",
            "\n",
            "\n",
            "Currently on step 700\n",
            "Accuracy is:\n",
            "0.4714\n",
            "\n",
            "\n",
            "Currently on step 800\n",
            "Accuracy is:\n",
            "0.5155\n",
            "\n",
            "\n",
            "Currently on step 900\n",
            "Accuracy is:\n",
            "0.5002\n",
            "\n",
            "\n",
            "Currently on step 1000\n",
            "Accuracy is:\n",
            "0.544\n",
            "\n",
            "\n",
            "Currently on step 1100\n",
            "Accuracy is:\n",
            "0.5077\n",
            "\n",
            "\n",
            "Currently on step 1200\n",
            "Accuracy is:\n",
            "0.5473\n",
            "\n",
            "\n",
            "Currently on step 1300\n",
            "Accuracy is:\n",
            "0.5678\n",
            "\n",
            "\n",
            "Currently on step 1400\n",
            "Accuracy is:\n",
            "0.5416\n",
            "\n",
            "\n",
            "Currently on step 1500\n",
            "Accuracy is:\n",
            "0.5616\n",
            "\n",
            "\n",
            "Currently on step 1600\n",
            "Accuracy is:\n",
            "0.5494\n",
            "\n",
            "\n",
            "Currently on step 1700\n",
            "Accuracy is:\n",
            "0.5977\n",
            "\n",
            "\n",
            "Currently on step 1800\n",
            "Accuracy is:\n",
            "0.6025\n",
            "\n",
            "\n",
            "Currently on step 1900\n",
            "Accuracy is:\n",
            "0.5823\n",
            "\n",
            "\n",
            "Currently on step 0\n",
            "Accuracy is:\n",
            "0.1\n",
            "\n",
            "\n",
            "Currently on step 100\n",
            "Accuracy is:\n",
            "0.1642\n",
            "\n",
            "\n",
            "Currently on step 200\n",
            "Accuracy is:\n",
            "0.2153\n",
            "\n",
            "\n",
            "Currently on step 300\n",
            "Accuracy is:\n",
            "0.2599\n",
            "\n",
            "\n",
            "Currently on step 400\n",
            "Accuracy is:\n",
            "0.2604\n",
            "\n",
            "\n",
            "Currently on step 500\n",
            "Accuracy is:\n",
            "0.2933\n",
            "\n",
            "\n",
            "Currently on step 600\n",
            "Accuracy is:\n",
            "0.2956\n",
            "\n",
            "\n",
            "Currently on step 700\n",
            "Accuracy is:\n",
            "0.2648\n",
            "\n",
            "\n",
            "Currently on step 800\n",
            "Accuracy is:\n",
            "0.3187\n",
            "\n",
            "\n",
            "Currently on step 900\n",
            "Accuracy is:\n",
            "0.3304\n",
            "\n",
            "\n",
            "Currently on step 1000\n",
            "Accuracy is:\n",
            "0.3507\n",
            "\n",
            "\n",
            "Currently on step 1100\n",
            "Accuracy is:\n",
            "0.3512\n",
            "\n",
            "\n",
            "Currently on step 1200\n",
            "Accuracy is:\n",
            "0.3594\n",
            "\n",
            "\n",
            "Currently on step 1300\n",
            "Accuracy is:\n",
            "0.3623\n",
            "\n",
            "\n",
            "Currently on step 1400\n",
            "Accuracy is:\n",
            "0.3817\n",
            "\n",
            "\n",
            "Currently on step 1500\n",
            "Accuracy is:\n",
            "0.3669\n",
            "\n",
            "\n",
            "Currently on step 1600\n",
            "Accuracy is:\n",
            "0.32\n",
            "\n",
            "\n",
            "Currently on step 1700\n",
            "Accuracy is:\n",
            "0.3589\n",
            "\n",
            "\n",
            "Currently on step 1800\n",
            "Accuracy is:\n",
            "0.3436\n",
            "\n",
            "\n",
            "Currently on step 1900\n",
            "Accuracy is:\n",
            "0.3116\n",
            "\n",
            "\n"
          ],
          "name": "stdout"
        }
      ]
    },
    {
      "cell_type": "code",
      "metadata": {
        "id": "w8mITgsQW130",
        "colab": {
          "base_uri": "https://localhost:8080/",
          "height": 313
        },
        "outputId": "8772fc1b-aa4e-4c71-a10e-e51dd45ad8db"
      },
      "source": [
        "#  One training 20 steps of different number of layers\n",
        "#100 batch size \n",
        "x = np.arange(0,2000,100)\n",
        "plt.plot(x,accuracy, label =    '1 conv layers')\n",
        "plt.plot(x,accuracy_2, label =  '2 conv layers')\n",
        "plt.plot(x,accuracy_3, label =  '3 conv layers')\n",
        "plt.plot(x,accuracy_4, label =  '4 conv layers')\n",
        "plt.plot(x,accuracy_5, label =  '5 conv layers')\n",
        "plt.plot(x,accuracy_10, label = '10 conv layers')\n",
        "plt.plot(x,accuracy_20, label = '20 conv layers')\n",
        "\n",
        "plt.title('Accuracy performance using different num_layers')\n",
        "plt.xlabel('Steps')\n",
        "plt.ylabel('Accuracy')\n",
        "plt.legend(bbox_to_anchor=(1.05, 1), loc='upper left', borderaxespad=0.)"
      ],
      "execution_count": null,
      "outputs": [
        {
          "output_type": "execute_result",
          "data": {
            "text/plain": [
              "<matplotlib.legend.Legend at 0x25c8d734898>"
            ]
          },
          "metadata": {
            "tags": []
          },
          "execution_count": 47
        },
        {
          "output_type": "display_data",
          "data": {
            "image/png": "[encoded data removed]",
            "text/plain": [
              "<matplotlib.figure.Figure at 0x25c8d7035f8>"
            ]
          },
          "metadata": {
            "tags": [],
            "needs_background": "light"
          }
        }
      ]
    },
    {
      "cell_type": "code",
      "metadata": {
        "colab": {
          "base_uri": "https://localhost:8080/",
          "height": 313
        },
        "id": "s9GbMTo35Xlo",
        "outputId": "6e331f2c-2fef-4dfc-d468-c55f330d7b91"
      },
      "source": [
        "#Average with batch_size = 100, steps = 500, run 5 times\n",
        "data = (time, time_2, time_3, time_4, time_5, time_10, time_20)\n",
        "\n",
        "ind = np.arange(7)\n",
        "width = 0.35\n",
        "\n",
        "plt.bar(ind, data, width)\n",
        "\n",
        "plt.title('number of layers training time')\n",
        "plt.xlabel('Number of conv layers')\n",
        "plt.ylabel('Time (secs)')\n",
        "\n",
        "plt.legend(loc='best')\n",
        "plt.xticks(ind, ('1','2','3','4','5','10','20'))\n",
        "plt.show()"
      ],
      "execution_count": null,
      "outputs": [
        {
          "output_type": "stream",
          "text": [
            "No handles with labels found to put in legend.\n"
          ],
          "name": "stderr"
        },
        {
          "output_type": "display_data",
          "data": {
            "image/png": "[encoded data removed]",
            "text/plain": [
              "<matplotlib.figure.Figure at 0x25c8d71c898>"
            ]
          },
          "metadata": {
            "tags": [],
            "needs_background": "light"
          }
        }
      ]
    }
  ]
}